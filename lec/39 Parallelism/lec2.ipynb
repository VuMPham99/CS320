{
 "cells": [
  {
   "cell_type": "markdown",
   "id": "c9d00f9f",
   "metadata": {},
   "source": [
    "# Threads"
   ]
  },
  {
   "cell_type": "code",
   "execution_count": 5,
   "id": "44f3eeb3",
   "metadata": {},
   "outputs": [
    {
     "name": "stdout",
     "output_type": "stream",
     "text": [
      "A 3\n",
      "Bhi\n",
      " 5\n",
      "A 2\n",
      "B 4\n",
      "A 1\n",
      "B 3\n",
      "B 2\n",
      "B 1\n"
     ]
    }
   ],
   "source": [
    "import time\n",
    "from threading import Thread\n",
    "\n",
    "def f(name, n):\n",
    "    for i in range(n):\n",
    "        print(name, n-i)\n",
    "        time.sleep(1)\n",
    "\n",
    "# f(\"A\", 3)\n",
    "# f(\"B\", 5)\n",
    "        \n",
    "t1 = Thread(target=f, args=(\"A\", 3))\n",
    "t2 = Thread(target=f, args=(\"B\", 5))\n",
    "t1.start()\n",
    "t2.start()\n",
    "t1.join() # wait for them to finish\n",
    "t2.join()"
   ]
  },
  {
   "cell_type": "markdown",
   "id": "aaa9ced8",
   "metadata": {},
   "source": [
    "# Processes\n",
    "\n",
    "How can we do the same computation to every item in a list?"
   ]
  },
  {
   "cell_type": "markdown",
   "id": "079861b0",
   "metadata": {},
   "source": [
    "## 1. For Loop, Append"
   ]
  },
  {
   "cell_type": "code",
   "execution_count": 6,
   "id": "a53fc93d",
   "metadata": {},
   "outputs": [
    {
     "data": {
      "text/plain": [
       "[2, 4, 6]"
      ]
     },
     "execution_count": 6,
     "metadata": {},
     "output_type": "execute_result"
    }
   ],
   "source": [
    "nums = [1, 2, 3]\n",
    "doubles = []\n",
    "for x in nums:\n",
    "    doubles.append(x * 2)\n",
    "doubles"
   ]
  },
  {
   "cell_type": "markdown",
   "id": "2eb04694",
   "metadata": {},
   "source": [
    "## 2. List Comprehension"
   ]
  },
  {
   "cell_type": "code",
   "execution_count": 7,
   "id": "464766e6",
   "metadata": {},
   "outputs": [
    {
     "data": {
      "text/plain": [
       "[2, 4, 6]"
      ]
     },
     "execution_count": 7,
     "metadata": {},
     "output_type": "execute_result"
    }
   ],
   "source": [
    "[x * 2 for x in nums]"
   ]
  },
  {
   "cell_type": "markdown",
   "id": "fecfb3a6",
   "metadata": {},
   "source": [
    "## 3. Series.apply with lambda"
   ]
  },
  {
   "cell_type": "code",
   "execution_count": 9,
   "id": "544a5b4c",
   "metadata": {},
   "outputs": [
    {
     "data": {
      "text/plain": [
       "0    2\n",
       "1    4\n",
       "2    6\n",
       "dtype: int64"
      ]
     },
     "execution_count": 9,
     "metadata": {},
     "output_type": "execute_result"
    }
   ],
   "source": [
    "import pandas as pd\n",
    "s = pd.Series(nums)\n",
    "s.apply(lambda my_param: my_param*2)"
   ]
  },
  {
   "cell_type": "markdown",
   "id": "144d8fbe",
   "metadata": {},
   "source": [
    "## 4. map with lambda"
   ]
  },
  {
   "cell_type": "code",
   "execution_count": 11,
   "id": "9e2ee655",
   "metadata": {},
   "outputs": [
    {
     "data": {
      "text/plain": [
       "[2, 4, 6]"
      ]
     },
     "execution_count": 11,
     "metadata": {},
     "output_type": "execute_result"
    }
   ],
   "source": [
    "list(map(lambda my_param: my_param*2, nums))"
   ]
  },
  {
   "cell_type": "markdown",
   "id": "6737bdaa",
   "metadata": {},
   "source": [
    "## 5. map with named function"
   ]
  },
  {
   "cell_type": "code",
   "execution_count": 20,
   "id": "b5c7784c",
   "metadata": {},
   "outputs": [
    {
     "data": {
      "text/plain": [
       "0.04506111145019531"
      ]
     },
     "execution_count": 20,
     "metadata": {},
     "output_type": "execute_result"
    }
   ],
   "source": [
    "from time import time\n",
    "\n",
    "#my_func = lambda my_param: my_param*2\n",
    "\n",
    "def my_func(my_param):\n",
    "    return my_param*2\n",
    "\n",
    "t0 = time()\n",
    "list(map(my_func, nums))\n",
    "t1 = time()\n",
    "\n",
    "(t1-t0) * 1000"
   ]
  },
  {
   "cell_type": "markdown",
   "id": "7d92bcaf",
   "metadata": {},
   "source": [
    "## 6. pool map"
   ]
  },
  {
   "cell_type": "code",
   "execution_count": 22,
   "id": "fd34d376",
   "metadata": {},
   "outputs": [
    {
     "data": {
      "text/plain": [
       "2"
      ]
     },
     "execution_count": 22,
     "metadata": {},
     "output_type": "execute_result"
    }
   ],
   "source": [
    "import os\n",
    "os.cpu_count()"
   ]
  },
  {
   "cell_type": "code",
   "execution_count": 27,
   "id": "63fc0677",
   "metadata": {},
   "outputs": [
    {
     "name": "stdout",
     "output_type": "stream",
     "text": [
      "[2, 4, 6]\n"
     ]
    },
    {
     "data": {
      "text/plain": [
       "16.08872413635254"
      ]
     },
     "execution_count": 27,
     "metadata": {},
     "output_type": "execute_result"
    }
   ],
   "source": [
    "from multiprocessing import Pool\n",
    "\n",
    "with Pool(100) as pool:\n",
    "    t0 = time()\n",
    "    results = list(pool.map(my_func, nums))\n",
    "    t1 = time()\n",
    "\n",
    "print(results)\n",
    "\n",
    "(t1-t0) * 1000"
   ]
  },
  {
   "cell_type": "markdown",
   "id": "569f7384",
   "metadata": {},
   "source": [
    "# Parallel Download"
   ]
  },
  {
   "cell_type": "code",
   "execution_count": 29,
   "id": "19b75be5",
   "metadata": {},
   "outputs": [
    {
     "data": {
      "text/plain": [
       "'<html><body>\\n<h1>Node: 0</h1>\\n<h3>Children:</h3>\\n<ul>\\n<li><a href=\"16.html\">16</a><li><a href=\"17.html\">17</a><li><a href=\"6.html\">6</a><li><a href=\"12.html\">12</a></ul>\\n</body></html>\\n'"
      ]
     },
     "execution_count": 29,
     "metadata": {},
     "output_type": "execute_result"
    }
   ],
   "source": [
    "import requests\n",
    "url = \"https://tyler.caraza-harter.com/cs320/crawl/practice7/0.html\"\n",
    "r = requests.get(url)\n",
    "r.raise_for_status()\n",
    "r.text"
   ]
  },
  {
   "cell_type": "code",
   "execution_count": 31,
   "id": "46269b4c",
   "metadata": {},
   "outputs": [
    {
     "data": {
      "text/plain": [
       "'<html><body>\\n<h1>Node: 1</h1>\\n<h3>Children:</h3>\\n<ul>\\n<li><a href=\"0.html\">0</a><li><a href=\"2.html\">2</a></ul>\\n</body></html>\\n'"
      ]
     },
     "execution_count": 31,
     "metadata": {},
     "output_type": "execute_result"
    }
   ],
   "source": [
    "def get_page(page_num):\n",
    "    url = f\"https://tyler.caraza-harter.com/cs320/crawl/practice7/{page_num}.html\"\n",
    "    r = requests.get(url)\n",
    "    r.raise_for_status()\n",
    "    return r.text\n",
    "\n",
    "get_page(1)"
   ]
  },
  {
   "cell_type": "code",
   "execution_count": 35,
   "id": "1b99ae03",
   "metadata": {},
   "outputs": [
    {
     "name": "stdout",
     "output_type": "stream",
     "text": [
      "0.25068235397338867\n"
     ]
    },
    {
     "data": {
      "text/plain": [
       "['<html><body>\\n<h1>Node: 0</h1>\\n<h3>Children:</h3>\\n<ul>\\n<li><a href=\"16.html\">16</a><li><a href=\"17.html\">17</a><li><a href=\"6.html\">6</a><li><a href=\"12.html\">12</a></ul>\\n</body></html>\\n',\n",
       " '<html><body>\\n<h1>Node: 1</h1>\\n<h3>Children:</h3>\\n<ul>\\n<li><a href=\"0.html\">0</a><li><a href=\"2.html\">2</a></ul>\\n</body></html>\\n',\n",
       " '<html><body>\\n<h1>Node: 2</h1>\\n<h3>Children:</h3>\\n<ul>\\n<li><a href=\"0.html\">0</a><li><a href=\"1.html\">1</a></ul>\\n</body></html>\\n',\n",
       " '<html><body>\\n<h1>Node: 3</h1>\\n<h3>Children:</h3>\\n<ul>\\n<li><a href=\"2.html\">2</a><li><a href=\"4.html\">4</a></ul>\\n</body></html>\\n',\n",
       " '<html><body>\\n<h1>Node: 4</h1>\\n<h3>Children:</h3>\\n<ul>\\n<li><a href=\"2.html\">2</a><li><a href=\"3.html\">3</a></ul>\\n</body></html>\\n',\n",
       " '<html><body>\\n<h1>Node: 5</h1>\\n<h3>Children:</h3>\\n<ul>\\n<li><a href=\"4.html\">4</a><li><a href=\"6.html\">6</a></ul>\\n</body></html>\\n',\n",
       " '<html><body>\\n<h1>Node: 6</h1>\\n<h3>Children:</h3>\\n<ul>\\n<li><a href=\"4.html\">4</a><li><a href=\"5.html\">5</a><li><a href=\"0.html\">0</a><li><a href=\"12.html\">12</a></ul>\\n</body></html>\\n',\n",
       " '<html><body>\\n<h1>Node: 7</h1>\\n<h3>Children:</h3>\\n<ul>\\n<li><a href=\"6.html\">6</a><li><a href=\"8.html\">8</a></ul>\\n</body></html>\\n',\n",
       " '<html><body>\\n<h1>Node: 8</h1>\\n<h3>Children:</h3>\\n<ul>\\n<li><a href=\"6.html\">6</a><li><a href=\"7.html\">7</a></ul>\\n</body></html>\\n',\n",
       " '<html><body>\\n<h1>Node: 9</h1>\\n<h3>Children:</h3>\\n<ul>\\n<li><a href=\"8.html\">8</a><li><a href=\"10.html\">10</a></ul>\\n</body></html>\\n',\n",
       " '<html><body>\\n<h1>Node: 10</h1>\\n<h3>Children:</h3>\\n<ul>\\n<li><a href=\"8.html\">8</a><li><a href=\"9.html\">9</a></ul>\\n</body></html>\\n',\n",
       " '<html><body>\\n<h1>Node: 11</h1>\\n<h3>Children:</h3>\\n<ul>\\n<li><a href=\"10.html\">10</a><li><a href=\"12.html\">12</a></ul>\\n</body></html>\\n',\n",
       " '<html><body>\\n<h1>Node: 12</h1>\\n<h3>Children:</h3>\\n<ul>\\n<li><a href=\"10.html\">10</a><li><a href=\"11.html\">11</a><li><a href=\"0.html\">0</a><li><a href=\"6.html\">6</a></ul>\\n</body></html>\\n',\n",
       " '<html><body>\\n<h1>Node: 13</h1>\\n<h3>Children:</h3>\\n<ul>\\n<li><a href=\"12.html\">12</a><li><a href=\"14.html\">14</a></ul>\\n</body></html>\\n',\n",
       " '<html><body>\\n<h1>Node: 14</h1>\\n<h3>Children:</h3>\\n<ul>\\n<li><a href=\"12.html\">12</a><li><a href=\"13.html\">13</a></ul>\\n</body></html>\\n',\n",
       " '<html><body>\\n<h1>Node: 15</h1>\\n<h3>Children:</h3>\\n<ul>\\n<li><a href=\"14.html\">14</a><li><a href=\"16.html\">16</a></ul>\\n</body></html>\\n',\n",
       " '<html><body>\\n<h1>Node: 16</h1>\\n<h3>Children:</h3>\\n<ul>\\n<li><a href=\"14.html\">14</a><li><a href=\"15.html\">15</a></ul>\\n</body></html>\\n',\n",
       " '<html><body>\\n<h1>Node: 17</h1>\\n<h3>Children:</h3>\\n<ul>\\n<li><a href=\"0.html\">0</a><li><a href=\"16.html\">16</a></ul>\\n</body></html>\\n']"
      ]
     },
     "execution_count": 35,
     "metadata": {},
     "output_type": "execute_result"
    }
   ],
   "source": [
    "with Pool(10) as p:\n",
    "    t0 = time()\n",
    "    results = p.map(get_page, range(0, 18))\n",
    "    t1 = time()\n",
    "\n",
    "print(t1-t0) # time in seconds\n",
    "results"
   ]
  },
  {
   "cell_type": "markdown",
   "id": "5cb42661",
   "metadata": {},
   "source": [
    "# Bug 1: Child Crashes -- What Happens to the Parent"
   ]
  },
  {
   "cell_type": "code",
   "execution_count": 36,
   "id": "acbfc198",
   "metadata": {},
   "outputs": [
    {
     "ename": "HTTPError",
     "evalue": "404 Client Error: Not Found for url: https://tyler.caraza-harter.com/cs320/crawl/practice7/19.html",
     "output_type": "error",
     "traceback": [
      "\u001b[0;31m---------------------------------------------------------------------------\u001b[0m",
      "\u001b[0;31mRemoteTraceback\u001b[0m                           Traceback (most recent call last)",
      "\u001b[0;31mRemoteTraceback\u001b[0m: \n\"\"\"\nTraceback (most recent call last):\n  File \"/usr/lib/python3.8/multiprocessing/pool.py\", line 125, in worker\n    result = (True, func(*args, **kwds))\n  File \"/usr/lib/python3.8/multiprocessing/pool.py\", line 48, in mapstar\n    return list(map(*args))\n  File \"/tmp/ipykernel_1322/3959739841.py\", line 4, in get_page\n    r.raise_for_status()\n  File \"/home/trh/.local/lib/python3.8/site-packages/requests/models.py\", line 960, in raise_for_status\n    raise HTTPError(http_error_msg, response=self)\nrequests.exceptions.HTTPError: 404 Client Error: Not Found for url: https://tyler.caraza-harter.com/cs320/crawl/practice7/19.html\n\"\"\"",
      "\nThe above exception was the direct cause of the following exception:\n",
      "\u001b[0;31mHTTPError\u001b[0m                                 Traceback (most recent call last)",
      "\u001b[0;32m/tmp/ipykernel_1322/4260537647.py\u001b[0m in \u001b[0;36m<module>\u001b[0;34m\u001b[0m\n\u001b[1;32m      1\u001b[0m \u001b[0;32mwith\u001b[0m \u001b[0mPool\u001b[0m\u001b[0;34m(\u001b[0m\u001b[0;36m10\u001b[0m\u001b[0;34m)\u001b[0m \u001b[0;32mas\u001b[0m \u001b[0mp\u001b[0m\u001b[0;34m:\u001b[0m\u001b[0;34m\u001b[0m\u001b[0;34m\u001b[0m\u001b[0m\n\u001b[1;32m      2\u001b[0m     \u001b[0mt0\u001b[0m \u001b[0;34m=\u001b[0m \u001b[0mtime\u001b[0m\u001b[0;34m(\u001b[0m\u001b[0;34m)\u001b[0m\u001b[0;34m\u001b[0m\u001b[0;34m\u001b[0m\u001b[0m\n\u001b[0;32m----> 3\u001b[0;31m     \u001b[0mresults\u001b[0m \u001b[0;34m=\u001b[0m \u001b[0mp\u001b[0m\u001b[0;34m.\u001b[0m\u001b[0mmap\u001b[0m\u001b[0;34m(\u001b[0m\u001b[0mget_page\u001b[0m\u001b[0;34m,\u001b[0m \u001b[0mrange\u001b[0m\u001b[0;34m(\u001b[0m\u001b[0;36m0\u001b[0m\u001b[0;34m,\u001b[0m \u001b[0;36m20\u001b[0m\u001b[0;34m)\u001b[0m\u001b[0;34m)\u001b[0m\u001b[0;34m\u001b[0m\u001b[0;34m\u001b[0m\u001b[0m\n\u001b[0m\u001b[1;32m      4\u001b[0m     \u001b[0mt1\u001b[0m \u001b[0;34m=\u001b[0m \u001b[0mtime\u001b[0m\u001b[0;34m(\u001b[0m\u001b[0;34m)\u001b[0m\u001b[0;34m\u001b[0m\u001b[0;34m\u001b[0m\u001b[0m\n\u001b[1;32m      5\u001b[0m \u001b[0;34m\u001b[0m\u001b[0m\n",
      "\u001b[0;32m/usr/lib/python3.8/multiprocessing/pool.py\u001b[0m in \u001b[0;36mmap\u001b[0;34m(self, func, iterable, chunksize)\u001b[0m\n\u001b[1;32m    362\u001b[0m         \u001b[0;32min\u001b[0m \u001b[0ma\u001b[0m \u001b[0mlist\u001b[0m \u001b[0mthat\u001b[0m \u001b[0;32mis\u001b[0m \u001b[0mreturned\u001b[0m\u001b[0;34m.\u001b[0m\u001b[0;34m\u001b[0m\u001b[0;34m\u001b[0m\u001b[0m\n\u001b[1;32m    363\u001b[0m         '''\n\u001b[0;32m--> 364\u001b[0;31m         \u001b[0;32mreturn\u001b[0m \u001b[0mself\u001b[0m\u001b[0;34m.\u001b[0m\u001b[0m_map_async\u001b[0m\u001b[0;34m(\u001b[0m\u001b[0mfunc\u001b[0m\u001b[0;34m,\u001b[0m \u001b[0miterable\u001b[0m\u001b[0;34m,\u001b[0m \u001b[0mmapstar\u001b[0m\u001b[0;34m,\u001b[0m \u001b[0mchunksize\u001b[0m\u001b[0;34m)\u001b[0m\u001b[0;34m.\u001b[0m\u001b[0mget\u001b[0m\u001b[0;34m(\u001b[0m\u001b[0;34m)\u001b[0m\u001b[0;34m\u001b[0m\u001b[0;34m\u001b[0m\u001b[0m\n\u001b[0m\u001b[1;32m    365\u001b[0m \u001b[0;34m\u001b[0m\u001b[0m\n\u001b[1;32m    366\u001b[0m     \u001b[0;32mdef\u001b[0m \u001b[0mstarmap\u001b[0m\u001b[0;34m(\u001b[0m\u001b[0mself\u001b[0m\u001b[0;34m,\u001b[0m \u001b[0mfunc\u001b[0m\u001b[0;34m,\u001b[0m \u001b[0miterable\u001b[0m\u001b[0;34m,\u001b[0m \u001b[0mchunksize\u001b[0m\u001b[0;34m=\u001b[0m\u001b[0;32mNone\u001b[0m\u001b[0;34m)\u001b[0m\u001b[0;34m:\u001b[0m\u001b[0;34m\u001b[0m\u001b[0;34m\u001b[0m\u001b[0m\n",
      "\u001b[0;32m/usr/lib/python3.8/multiprocessing/pool.py\u001b[0m in \u001b[0;36mget\u001b[0;34m(self, timeout)\u001b[0m\n\u001b[1;32m    769\u001b[0m             \u001b[0;32mreturn\u001b[0m \u001b[0mself\u001b[0m\u001b[0;34m.\u001b[0m\u001b[0m_value\u001b[0m\u001b[0;34m\u001b[0m\u001b[0;34m\u001b[0m\u001b[0m\n\u001b[1;32m    770\u001b[0m         \u001b[0;32melse\u001b[0m\u001b[0;34m:\u001b[0m\u001b[0;34m\u001b[0m\u001b[0;34m\u001b[0m\u001b[0m\n\u001b[0;32m--> 771\u001b[0;31m             \u001b[0;32mraise\u001b[0m \u001b[0mself\u001b[0m\u001b[0;34m.\u001b[0m\u001b[0m_value\u001b[0m\u001b[0;34m\u001b[0m\u001b[0;34m\u001b[0m\u001b[0m\n\u001b[0m\u001b[1;32m    772\u001b[0m \u001b[0;34m\u001b[0m\u001b[0m\n\u001b[1;32m    773\u001b[0m     \u001b[0;32mdef\u001b[0m \u001b[0m_set\u001b[0m\u001b[0;34m(\u001b[0m\u001b[0mself\u001b[0m\u001b[0;34m,\u001b[0m \u001b[0mi\u001b[0m\u001b[0;34m,\u001b[0m \u001b[0mobj\u001b[0m\u001b[0;34m)\u001b[0m\u001b[0;34m:\u001b[0m\u001b[0;34m\u001b[0m\u001b[0;34m\u001b[0m\u001b[0m\n",
      "\u001b[0;31mHTTPError\u001b[0m: 404 Client Error: Not Found for url: https://tyler.caraza-harter.com/cs320/crawl/practice7/19.html"
     ]
    }
   ],
   "source": [
    "with Pool(10) as p:\n",
    "    t0 = time()\n",
    "    results = p.map(get_page, range(0, 20))\n",
    "    t1 = time()\n",
    "\n",
    "print(t1-t0) # time in seconds\n",
    "results"
   ]
  },
  {
   "cell_type": "markdown",
   "id": "23214938",
   "metadata": {},
   "source": [
    "# Bug 2: global variables\n",
    "\n",
    "\"global\" variables are only global within a process"
   ]
  },
  {
   "cell_type": "code",
   "execution_count": 46,
   "id": "6d8b0b5f",
   "metadata": {},
   "outputs": [
    {
     "data": {
      "text/plain": [
       "1322"
      ]
     },
     "execution_count": 46,
     "metadata": {},
     "output_type": "execute_result"
    }
   ],
   "source": [
    "os.getpid() # get process ID"
   ]
  },
  {
   "cell_type": "code",
   "execution_count": 47,
   "id": "f7b0e498",
   "metadata": {},
   "outputs": [
    {
     "data": {
      "text/plain": [
       "{}"
      ]
     },
     "execution_count": 47,
     "metadata": {},
     "output_type": "execute_result"
    }
   ],
   "source": [
    "all_pages = {} # page number => HTML for that page\n",
    "\n",
    "def get_page_v2(page_num):\n",
    "    url = f\"https://tyler.caraza-harter.com/cs320/crawl/practice7/{page_num}.html\"\n",
    "    r = requests.get(url)\n",
    "    r.raise_for_status()\n",
    "    all_pages[page_num] = r.text\n",
    "    print(os.getpid(), list(all_pages.keys()))\n",
    "\n",
    "# get_page_v2(1)\n",
    "# get_page_v2(2)\n",
    "\n",
    "all_pages"
   ]
  },
  {
   "cell_type": "code",
   "execution_count": 52,
   "id": "0d943691",
   "metadata": {},
   "outputs": [
    {
     "name": "stdout",
     "output_type": "stream",
     "text": [
      "1519715196  [3][0]\n",
      "\n",
      "1519715196 [0, 1]\n",
      " [3, 4]\n",
      "15196 [0, 1, 2]15197 [3, 4, 5]\n",
      "\n",
      "15197 [3, 4, 5, 6]\n",
      "15196 [0, 1, 2, 9]\n",
      "15197 [3, 4, 5, 6, 7]\n",
      "15196 [0, 1, 2, 9, 10]\n",
      "15197 [3, 4, 5, 6, 7, 8]\n",
      "15196 [0, 1, 2, 9, 10, 11]\n",
      "15197 [3, 4, 5, 6, 7, 8, 12]\n",
      "15196 [0, 1, 2, 9, 10, 11, 15]\n",
      "15197 [3, 4, 5, 6, 7, 8, 12, 13]\n",
      "15196 [0, 1, 2, 9, 10, 11, 15, 16]\n",
      "15197 [3, 4, 5, 6, 7, 8, 12, 13, 14]\n",
      "15196 [0, 1, 2, 9, 10, 11, 15, 16, 17]\n"
     ]
    },
    {
     "data": {
      "text/plain": [
       "{}"
      ]
     },
     "execution_count": 52,
     "metadata": {},
     "output_type": "execute_result"
    }
   ],
   "source": [
    "with Pool(2) as p:\n",
    "    t0 = time()\n",
    "    p.map(get_page_v2, range(0, 18))\n",
    "    t1 = time()\n",
    "\n",
    "all_pages"
   ]
  },
  {
   "cell_type": "code",
   "execution_count": 49,
   "id": "8a485bfd",
   "metadata": {},
   "outputs": [
    {
     "data": {
      "text/plain": [
       "1322"
      ]
     },
     "execution_count": 49,
     "metadata": {},
     "output_type": "execute_result"
    }
   ],
   "source": [
    "os.getpid()"
   ]
  }
 ],
 "metadata": {
  "kernelspec": {
   "display_name": "Python 3 (ipykernel)",
   "language": "python",
   "name": "python3"
  },
  "language_info": {
   "codemirror_mode": {
    "name": "ipython",
    "version": 3
   },
   "file_extension": ".py",
   "mimetype": "text/x-python",
   "name": "python",
   "nbconvert_exporter": "python",
   "pygments_lexer": "ipython3",
   "version": "3.8.10"
  }
 },
 "nbformat": 4,
 "nbformat_minor": 5
}
