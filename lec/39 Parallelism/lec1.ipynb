{
 "cells": [
  {
   "cell_type": "markdown",
   "id": "c9d00f9f",
   "metadata": {},
   "source": [
    "# Threads"
   ]
  },
  {
   "cell_type": "code",
   "execution_count": 1,
   "id": "44f3eeb3",
   "metadata": {},
   "outputs": [
    {
     "name": "stdout",
     "output_type": "stream",
     "text": [
      "A 3\n",
      "B 5\n",
      "A 2\n",
      "B 4\n",
      "A 1\n",
      "B 3\n",
      "B 2\n",
      "B 1\n"
     ]
    }
   ],
   "source": [
    "import time\n",
    "from threading import Thread\n",
    "\n",
    "def f(name, n):\n",
    "    for i in range(n):\n",
    "        print(name, n-i)\n",
    "        time.sleep(1)\n",
    "\n",
    "# f(\"A\", 3)\n",
    "# f(\"B\", 5)\n",
    "        \n",
    "t1 = Thread(target=f, args=(\"A\", 3))\n",
    "t2 = Thread(target=f, args=(\"B\", 5))\n",
    "t1.start()\n",
    "t2.start()\n",
    "t1.join()\n",
    "t2.join()"
   ]
  },
  {
   "cell_type": "markdown",
   "id": "aaa9ced8",
   "metadata": {},
   "source": [
    "# Processes\n",
    "\n",
    "How can we do the same computation to every item in a list?"
   ]
  },
  {
   "cell_type": "markdown",
   "id": "079861b0",
   "metadata": {},
   "source": [
    "## 1. For Loop, Append"
   ]
  },
  {
   "cell_type": "code",
   "execution_count": 3,
   "id": "a53fc93d",
   "metadata": {},
   "outputs": [
    {
     "data": {
      "text/plain": [
       "[2, 4, 6]"
      ]
     },
     "execution_count": 3,
     "metadata": {},
     "output_type": "execute_result"
    }
   ],
   "source": [
    "nums = [1, 2, 3]\n",
    "doubles = []\n",
    "for x in nums:\n",
    "    doubles.append(x * 2)\n",
    "doubles"
   ]
  },
  {
   "cell_type": "markdown",
   "id": "2eb04694",
   "metadata": {},
   "source": [
    "## 2. List Comprehension"
   ]
  },
  {
   "cell_type": "code",
   "execution_count": 4,
   "id": "464766e6",
   "metadata": {},
   "outputs": [
    {
     "data": {
      "text/plain": [
       "[2, 4, 6]"
      ]
     },
     "execution_count": 4,
     "metadata": {},
     "output_type": "execute_result"
    }
   ],
   "source": [
    "[x * 2 for x in nums]"
   ]
  },
  {
   "cell_type": "markdown",
   "id": "fecfb3a6",
   "metadata": {},
   "source": [
    "## 3. Series.apply with lambda"
   ]
  },
  {
   "cell_type": "code",
   "execution_count": 7,
   "id": "544a5b4c",
   "metadata": {},
   "outputs": [
    {
     "data": {
      "text/plain": [
       "0    2\n",
       "1    4\n",
       "2    6\n",
       "dtype: int64"
      ]
     },
     "execution_count": 7,
     "metadata": {},
     "output_type": "execute_result"
    }
   ],
   "source": [
    "import pandas as pd\n",
    "\n",
    "pd.Series(nums).apply(lambda my_parameter: my_parameter*2)"
   ]
  },
  {
   "cell_type": "markdown",
   "id": "144d8fbe",
   "metadata": {},
   "source": [
    "## 4. map with lambda"
   ]
  },
  {
   "cell_type": "code",
   "execution_count": 9,
   "id": "9e2ee655",
   "metadata": {},
   "outputs": [
    {
     "data": {
      "text/plain": [
       "[2, 4, 6]"
      ]
     },
     "execution_count": 9,
     "metadata": {},
     "output_type": "execute_result"
    }
   ],
   "source": [
    "list(map(lambda my_parameter: my_parameter*2, nums))"
   ]
  },
  {
   "cell_type": "markdown",
   "id": "6737bdaa",
   "metadata": {},
   "source": [
    "## 5. map with named function"
   ]
  },
  {
   "cell_type": "code",
   "execution_count": 19,
   "id": "b5c7784c",
   "metadata": {},
   "outputs": [
    {
     "data": {
      "text/plain": [
       "0.08368492126464844"
      ]
     },
     "execution_count": 19,
     "metadata": {},
     "output_type": "execute_result"
    }
   ],
   "source": [
    "from time import time\n",
    "\n",
    "def my_func(my_parameter):\n",
    "    return my_parameter*2\n",
    "\n",
    "# single process version\n",
    "\n",
    "t0 = time()\n",
    "list(map(my_func, nums))\n",
    "t1 = time()\n",
    "(t1-t0) * 1000"
   ]
  },
  {
   "cell_type": "markdown",
   "id": "7d92bcaf",
   "metadata": {},
   "source": [
    "## 6. pool map"
   ]
  },
  {
   "cell_type": "code",
   "execution_count": 12,
   "id": "63fc0677",
   "metadata": {},
   "outputs": [],
   "source": [
    "from multiprocessing import Pool"
   ]
  },
  {
   "cell_type": "code",
   "execution_count": 29,
   "id": "c3674e47",
   "metadata": {},
   "outputs": [
    {
     "name": "stdout",
     "output_type": "stream",
     "text": [
      "[2, 4, 6]\n"
     ]
    },
    {
     "data": {
      "text/plain": [
       "1.9137859344482422"
      ]
     },
     "execution_count": 29,
     "metadata": {},
     "output_type": "execute_result"
    }
   ],
   "source": [
    "with Pool(3) as p:\n",
    "    t0 = time()\n",
    "    results = p.map(my_func, nums)\n",
    "    t1 = time()\n",
    "print(results)\n",
    "(t1-t0) * 1000"
   ]
  },
  {
   "cell_type": "code",
   "execution_count": 16,
   "id": "63ebd2bf",
   "metadata": {},
   "outputs": [
    {
     "data": {
      "text/plain": [
       "2"
      ]
     },
     "execution_count": 16,
     "metadata": {},
     "output_type": "execute_result"
    }
   ],
   "source": [
    "import os\n",
    "os.cpu_count()"
   ]
  },
  {
   "cell_type": "markdown",
   "id": "569f7384",
   "metadata": {},
   "source": [
    "# Parallel Download"
   ]
  },
  {
   "cell_type": "code",
   "execution_count": 31,
   "id": "19b75be5",
   "metadata": {},
   "outputs": [
    {
     "data": {
      "text/plain": [
       "'<html><body>\\n<h1>Node: 0</h1>\\n<h3>Children:</h3>\\n<ul>\\n<li><a href=\"16.html\">16</a><li><a href=\"17.html\">17</a><li><a href=\"6.html\">6</a><li><a href=\"12.html\">12</a></ul>\\n</body></html>\\n'"
      ]
     },
     "execution_count": 31,
     "metadata": {},
     "output_type": "execute_result"
    }
   ],
   "source": [
    "import requests\n",
    "url = \"https://tyler.caraza-harter.com/cs320/crawl/practice7/0.html\"\n",
    "r = requests.get(url)\n",
    "r.raise_for_status()\n",
    "r.text"
   ]
  },
  {
   "cell_type": "code",
   "execution_count": 33,
   "id": "966b1a99",
   "metadata": {},
   "outputs": [
    {
     "data": {
      "text/plain": [
       "'<html><body>\\n<h1>Node: 2</h1>\\n<h3>Children:</h3>\\n<ul>\\n<li><a href=\"0.html\">0</a><li><a href=\"1.html\">1</a></ul>\\n</body></html>\\n'"
      ]
     },
     "execution_count": 33,
     "metadata": {},
     "output_type": "execute_result"
    }
   ],
   "source": [
    "def get_page(page_num):\n",
    "    url = f\"https://tyler.caraza-harter.com/cs320/crawl/practice7/{page_num}.html\"\n",
    "    r = requests.get(url)\n",
    "    r.raise_for_status()\n",
    "    return r.text\n",
    "get_page(2)"
   ]
  },
  {
   "cell_type": "code",
   "execution_count": 48,
   "id": "f5db30d5",
   "metadata": {},
   "outputs": [
    {
     "data": {
      "text/plain": [
       "0.2566366195678711"
      ]
     },
     "execution_count": 48,
     "metadata": {},
     "output_type": "execute_result"
    }
   ],
   "source": [
    "with Pool(20) as p:\n",
    "    t0 = time()\n",
    "    results = p.map(get_page, range(0,18))\n",
    "    t1 = time()\n",
    "\n",
    "t1-t0 # seconds"
   ]
  },
  {
   "cell_type": "markdown",
   "id": "808917c4",
   "metadata": {},
   "source": [
    "# Bug 1"
   ]
  },
  {
   "cell_type": "code",
   "execution_count": 49,
   "id": "e2d9b892",
   "metadata": {},
   "outputs": [
    {
     "ename": "HTTPError",
     "evalue": "404 Client Error: Not Found for url: https://tyler.caraza-harter.com/cs320/crawl/practice7/18.html",
     "output_type": "error",
     "traceback": [
      "\u001b[0;31m---------------------------------------------------------------------------\u001b[0m",
      "\u001b[0;31mRemoteTraceback\u001b[0m                           Traceback (most recent call last)",
      "\u001b[0;31mRemoteTraceback\u001b[0m: \n\"\"\"\nTraceback (most recent call last):\n  File \"/usr/lib/python3.8/multiprocessing/pool.py\", line 125, in worker\n    result = (True, func(*args, **kwds))\n  File \"/usr/lib/python3.8/multiprocessing/pool.py\", line 48, in mapstar\n    return list(map(*args))\n  File \"/tmp/ipykernel_6702/3694533647.py\", line 4, in get_page\n    r.raise_for_status()\n  File \"/home/trh/.local/lib/python3.8/site-packages/requests/models.py\", line 960, in raise_for_status\n    raise HTTPError(http_error_msg, response=self)\nrequests.exceptions.HTTPError: 404 Client Error: Not Found for url: https://tyler.caraza-harter.com/cs320/crawl/practice7/18.html\n\"\"\"",
      "\nThe above exception was the direct cause of the following exception:\n",
      "\u001b[0;31mHTTPError\u001b[0m                                 Traceback (most recent call last)",
      "\u001b[0;32m/tmp/ipykernel_6702/4065727921.py\u001b[0m in \u001b[0;36m<module>\u001b[0;34m\u001b[0m\n\u001b[1;32m      1\u001b[0m \u001b[0;32mwith\u001b[0m \u001b[0mPool\u001b[0m\u001b[0;34m(\u001b[0m\u001b[0;36m20\u001b[0m\u001b[0;34m)\u001b[0m \u001b[0;32mas\u001b[0m \u001b[0mp\u001b[0m\u001b[0;34m:\u001b[0m\u001b[0;34m\u001b[0m\u001b[0;34m\u001b[0m\u001b[0m\n\u001b[1;32m      2\u001b[0m     \u001b[0mt0\u001b[0m \u001b[0;34m=\u001b[0m \u001b[0mtime\u001b[0m\u001b[0;34m(\u001b[0m\u001b[0;34m)\u001b[0m\u001b[0;34m\u001b[0m\u001b[0;34m\u001b[0m\u001b[0m\n\u001b[0;32m----> 3\u001b[0;31m     \u001b[0mresults\u001b[0m \u001b[0;34m=\u001b[0m \u001b[0mp\u001b[0m\u001b[0;34m.\u001b[0m\u001b[0mmap\u001b[0m\u001b[0;34m(\u001b[0m\u001b[0mget_page\u001b[0m\u001b[0;34m,\u001b[0m \u001b[0mrange\u001b[0m\u001b[0;34m(\u001b[0m\u001b[0;36m0\u001b[0m\u001b[0;34m,\u001b[0m\u001b[0;36m20\u001b[0m\u001b[0;34m)\u001b[0m\u001b[0;34m)\u001b[0m\u001b[0;34m\u001b[0m\u001b[0;34m\u001b[0m\u001b[0m\n\u001b[0m\u001b[1;32m      4\u001b[0m     \u001b[0mt1\u001b[0m \u001b[0;34m=\u001b[0m \u001b[0mtime\u001b[0m\u001b[0;34m(\u001b[0m\u001b[0;34m)\u001b[0m\u001b[0;34m\u001b[0m\u001b[0;34m\u001b[0m\u001b[0m\n\u001b[1;32m      5\u001b[0m \u001b[0;34m\u001b[0m\u001b[0m\n",
      "\u001b[0;32m/usr/lib/python3.8/multiprocessing/pool.py\u001b[0m in \u001b[0;36mmap\u001b[0;34m(self, func, iterable, chunksize)\u001b[0m\n\u001b[1;32m    362\u001b[0m         \u001b[0;32min\u001b[0m \u001b[0ma\u001b[0m \u001b[0mlist\u001b[0m \u001b[0mthat\u001b[0m \u001b[0;32mis\u001b[0m \u001b[0mreturned\u001b[0m\u001b[0;34m.\u001b[0m\u001b[0;34m\u001b[0m\u001b[0;34m\u001b[0m\u001b[0m\n\u001b[1;32m    363\u001b[0m         '''\n\u001b[0;32m--> 364\u001b[0;31m         \u001b[0;32mreturn\u001b[0m \u001b[0mself\u001b[0m\u001b[0;34m.\u001b[0m\u001b[0m_map_async\u001b[0m\u001b[0;34m(\u001b[0m\u001b[0mfunc\u001b[0m\u001b[0;34m,\u001b[0m \u001b[0miterable\u001b[0m\u001b[0;34m,\u001b[0m \u001b[0mmapstar\u001b[0m\u001b[0;34m,\u001b[0m \u001b[0mchunksize\u001b[0m\u001b[0;34m)\u001b[0m\u001b[0;34m.\u001b[0m\u001b[0mget\u001b[0m\u001b[0;34m(\u001b[0m\u001b[0;34m)\u001b[0m\u001b[0;34m\u001b[0m\u001b[0;34m\u001b[0m\u001b[0m\n\u001b[0m\u001b[1;32m    365\u001b[0m \u001b[0;34m\u001b[0m\u001b[0m\n\u001b[1;32m    366\u001b[0m     \u001b[0;32mdef\u001b[0m \u001b[0mstarmap\u001b[0m\u001b[0;34m(\u001b[0m\u001b[0mself\u001b[0m\u001b[0;34m,\u001b[0m \u001b[0mfunc\u001b[0m\u001b[0;34m,\u001b[0m \u001b[0miterable\u001b[0m\u001b[0;34m,\u001b[0m \u001b[0mchunksize\u001b[0m\u001b[0;34m=\u001b[0m\u001b[0;32mNone\u001b[0m\u001b[0;34m)\u001b[0m\u001b[0;34m:\u001b[0m\u001b[0;34m\u001b[0m\u001b[0;34m\u001b[0m\u001b[0m\n",
      "\u001b[0;32m/usr/lib/python3.8/multiprocessing/pool.py\u001b[0m in \u001b[0;36mget\u001b[0;34m(self, timeout)\u001b[0m\n\u001b[1;32m    769\u001b[0m             \u001b[0;32mreturn\u001b[0m \u001b[0mself\u001b[0m\u001b[0;34m.\u001b[0m\u001b[0m_value\u001b[0m\u001b[0;34m\u001b[0m\u001b[0;34m\u001b[0m\u001b[0m\n\u001b[1;32m    770\u001b[0m         \u001b[0;32melse\u001b[0m\u001b[0;34m:\u001b[0m\u001b[0;34m\u001b[0m\u001b[0;34m\u001b[0m\u001b[0m\n\u001b[0;32m--> 771\u001b[0;31m             \u001b[0;32mraise\u001b[0m \u001b[0mself\u001b[0m\u001b[0;34m.\u001b[0m\u001b[0m_value\u001b[0m\u001b[0;34m\u001b[0m\u001b[0;34m\u001b[0m\u001b[0m\n\u001b[0m\u001b[1;32m    772\u001b[0m \u001b[0;34m\u001b[0m\u001b[0m\n\u001b[1;32m    773\u001b[0m     \u001b[0;32mdef\u001b[0m \u001b[0m_set\u001b[0m\u001b[0;34m(\u001b[0m\u001b[0mself\u001b[0m\u001b[0;34m,\u001b[0m \u001b[0mi\u001b[0m\u001b[0;34m,\u001b[0m \u001b[0mobj\u001b[0m\u001b[0;34m)\u001b[0m\u001b[0;34m:\u001b[0m\u001b[0;34m\u001b[0m\u001b[0;34m\u001b[0m\u001b[0m\n",
      "\u001b[0;31mHTTPError\u001b[0m: 404 Client Error: Not Found for url: https://tyler.caraza-harter.com/cs320/crawl/practice7/18.html"
     ]
    }
   ],
   "source": [
    "with Pool(20) as p:\n",
    "    t0 = time()\n",
    "    results = p.map(get_page, range(0,20))\n",
    "    t1 = time()\n",
    "\n",
    "t1-t0 # seconds"
   ]
  },
  {
   "cell_type": "markdown",
   "id": "21e17340",
   "metadata": {},
   "source": [
    "# Bug 2\n",
    "\n",
    "Global variables are not global across different processes."
   ]
  },
  {
   "cell_type": "code",
   "execution_count": 59,
   "id": "29c9b244",
   "metadata": {},
   "outputs": [
    {
     "data": {
      "text/plain": [
       "6702"
      ]
     },
     "execution_count": 59,
     "metadata": {},
     "output_type": "execute_result"
    }
   ],
   "source": [
    "os.getpid() # get process ID"
   ]
  },
  {
   "cell_type": "code",
   "execution_count": 60,
   "id": "16ab647f",
   "metadata": {},
   "outputs": [
    {
     "data": {
      "text/plain": [
       "{}"
      ]
     },
     "execution_count": 60,
     "metadata": {},
     "output_type": "execute_result"
    }
   ],
   "source": [
    "all_pages = {} # page num => HTML of that page\n",
    "\n",
    "def get_page_v2(page_num):\n",
    "    url = f\"https://tyler.caraza-harter.com/cs320/crawl/practice7/{page_num}.html\"\n",
    "    r = requests.get(url)\n",
    "    r.raise_for_status()\n",
    "    all_pages[page_num] = r.text\n",
    "    print(os.getpid(), all_pages.keys())\n",
    "\n",
    "# get_page_v2(2)\n",
    "# get_page_v2(3)\n",
    "all_pages"
   ]
  },
  {
   "cell_type": "code",
   "execution_count": 61,
   "id": "782e9785",
   "metadata": {},
   "outputs": [
    {
     "name": "stdout",
     "output_type": "stream",
     "text": [
      "13527 dict_keys([3])\n",
      "13526 dict_keys([0])\n",
      "13527 13526dict_keys([3, 4])\n",
      " dict_keys([0, 1])\n",
      "13527 13526 dict_keys([3, 4, 5])dict_keys([0, 1, 2])\n",
      "\n",
      "1352713526 dict_keys([0, 1, 2, 6])\n",
      " dict_keys([3, 4, 5, 9])\n",
      "13526 dict_keys([0, 1, 2, 6, 7])\n",
      "13527 dict_keys([3, 4, 5, 9, 10])\n",
      "13526 dict_keys([0, 1, 2, 6, 7, 8])\n",
      "13527 dict_keys([3, 4, 5, 9, 10, 11])\n",
      "13526 dict_keys([0, 1, 2, 6, 7, 8, 12])\n",
      "13527 dict_keys([3, 4, 5, 9, 10, 11, 15])\n",
      "13526 dict_keys([0, 1, 2, 6, 7, 8, 12, 13])\n",
      "13527 dict_keys([3, 4, 5, 9, 10, 11, 15, 16])\n",
      "13526 dict_keys([0, 1, 2, 6, 7, 8, 12, 13, 14])\n",
      "13527 dict_keys([3, 4, 5, 9, 10, 11, 15, 16, 17])\n"
     ]
    },
    {
     "data": {
      "text/plain": [
       "{}"
      ]
     },
     "execution_count": 61,
     "metadata": {},
     "output_type": "execute_result"
    }
   ],
   "source": [
    "with Pool(2) as p:\n",
    "    t0 = time()\n",
    "    p.map(get_page_v2, range(0,18))\n",
    "    t1 = time()\n",
    "\n",
    "all_pages"
   ]
  },
  {
   "cell_type": "code",
   "execution_count": 62,
   "id": "e47b3bab",
   "metadata": {},
   "outputs": [
    {
     "data": {
      "text/plain": [
       "6702"
      ]
     },
     "execution_count": 62,
     "metadata": {},
     "output_type": "execute_result"
    }
   ],
   "source": [
    "os.getpid()"
   ]
  }
 ],
 "metadata": {
  "kernelspec": {
   "display_name": "Python 3 (ipykernel)",
   "language": "python",
   "name": "python3"
  },
  "language_info": {
   "codemirror_mode": {
    "name": "ipython",
    "version": 3
   },
   "file_extension": ".py",
   "mimetype": "text/x-python",
   "name": "python",
   "nbconvert_exporter": "python",
   "pygments_lexer": "ipython3",
   "version": "3.8.10"
  }
 },
 "nbformat": 4,
 "nbformat_minor": 5
}
